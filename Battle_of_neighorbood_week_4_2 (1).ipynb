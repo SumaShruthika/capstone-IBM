{
  "nbformat": 4,
  "nbformat_minor": 0,
  "metadata": {
    "colab": {
      "name": "Battle of neighorbood week 4 -2",
      "provenance": [],
      "toc_visible": true
    },
    "kernelspec": {
      "name": "python3",
      "display_name": "Python 3"
    }
  },
  "cells": [
    {
      "cell_type": "markdown",
      "metadata": {
        "id": "pPEQlXaKILoF",
        "colab_type": "text"
      },
      "source": [
        "# **The Battle of the Neighborhoods - Week 1**"
      ]
    },
    {
      "cell_type": "markdown",
      "metadata": {
        "id": "9hwAH8FSIUIj",
        "colab_type": "text"
      },
      "source": [
        "**Data :**"
      ]
    },
    {
      "cell_type": "markdown",
      "metadata": {
        "id": "43pD_UzlIYKt",
        "colab_type": "text"
      },
      "source": [
        "One city will be analysed in this project : *Newyork City*."
      ]
    },
    {
      "cell_type": "markdown",
      "metadata": {
        "id": "WpmfAV5aIcu3",
        "colab_type": "text"
      },
      "source": [
        "We will be using the below datasets for analysing Newyork city"
      ]
    },
    {
      "cell_type": "markdown",
      "metadata": {
        "id": "jeYO6PiBIfN4",
        "colab_type": "text"
      },
      "source": [
        "**Data 1 :** Neighborhood has a total of 5 boroughs and 306 neighborhoods. In order to segement the neighborhoods and explore them, we will essentially need a dataset that contains the 5 boroughs and the neighborhoods that exist in each borough as well as the the latitude and logitude coordinates of each neighborhood."
      ]
    },
    {
      "cell_type": "markdown",
      "metadata": {
        "id": "LJ1tp2ltIjEa",
        "colab_type": "text"
      },
      "source": [
        "This dataset exists for free on the web. Link to the dataset is : https://geo.nyu.edu/catalog/nyu_2451_34572"
      ]
    },
    {
      "cell_type": "markdown",
      "metadata": {
        "id": "8UCiPm9sIl0J",
        "colab_type": "text"
      },
      "source": [
        "**Data 2 :** Second data which will be used is the DOHMH Farmers Markets and Food Boxes dataset. In this we will be using the data of Farmers Markets."
      ]
    },
    {
      "cell_type": "markdown",
      "metadata": {
        "id": "74NmhwQxIoEF",
        "colab_type": "text"
      },
      "source": [
        "https://data.cityofnewyork.us/dataset/DOHMH-Farmers-Markets-and-Food-Boxes/8vwk-6iz2"
      ]
    },
    {
      "cell_type": "markdown",
      "metadata": {
        "id": "dT4CGJnbIyAY",
        "colab_type": "text"
      },
      "source": [
        "Website-https://www.grownyc.org/greenmarketco/foodbox\n",
        "GrowNYC's Fresh Food Box Program is a food access initiative that enables under-served communities to purchase fresh, healthy, and primarily regionally grown produce well below traditional retail prices."
      ]
    },
    {
      "cell_type": "markdown",
      "metadata": {
        "id": "lAPD5JckI01n",
        "colab_type": "text"
      },
      "source": [
        "A farmers' market is often defined as a public site used by two or more local or regional producers for the direct sale of farm products to consumers. In addition to fresh fruits and vegetables, markets may sell dairy products, fish, meat, baked goods, and other minimally processed foods."
      ]
    },
    {
      "cell_type": "markdown",
      "metadata": {
        "id": "uf7-mGh4I3AT",
        "colab_type": "text"
      },
      "source": [
        "**Data 3**: For the below analysis we will get data from wikipedia as given below :"
      ]
    },
    {
      "cell_type": "markdown",
      "metadata": {
        "id": "Cyztt6zFI_oO",
        "colab_type": "text"
      },
      "source": [
        "\n",
        "\n",
        "*   New York Population\n",
        "*   New York City Demographics\n",
        "*   Cuisine of New York City\n",
        "\n",
        "\n",
        "\n",
        "\n",
        "\n",
        "\n",
        "\n",
        "\n",
        "\n"
      ]
    },
    {
      "cell_type": "markdown",
      "metadata": {
        "id": "Rh1BGXRZI7TT",
        "colab_type": "text"
      },
      "source": [
        "https://en.wikipedia.org/wiki/New_York_City\n",
        "https://en.wikipedia.org/wiki/Economy_of_New_York_City\n",
        "https://en.wikipedia.org/wiki/Portal:New_York_City\n",
        "https://en.wikipedia.org/wiki/Cuisine_of_New_York_City\n",
        "https://en.wikipedia.org/wiki/List_of_Michelin_starred_restaurants_in_New_York_City\n",
        "\n",
        "\n"
      ]
    },
    {
      "cell_type": "markdown",
      "metadata": {
        "id": "MJTGW8aDKAKt",
        "colab_type": "text"
      },
      "source": [
        "**Data 4 :** Newyork city geographical coordinates data will be utilized as input for the Foursquare API, that will be leveraged to provision venues information for each neighborhood.We will use the Foursquare API to explore neighborhoods in New York City. "
      ]
    }
  ]
}